# import libraries

import pandas as pd
import numpy as np
import networkx as nx
import os
import matplotlib.pyplot as plt
from pyvis.network import Network
import seaborn as sns
import pyvis


path = r'C:\Users\nrsmi\Documents\CareerFoundry\20th_Century'





# Import relationship data

relationship_df = pd.read_csv('countries_relationship.csv', index_col = 0)


relationship_df





# Create a graph from a pandas dataframe

G = nx.from_pandas_edgelist(relationship_df, 
                            source = "source", 
                            target = "target", 
                            edge_attr = "value", 
                            create_using = nx.Graph())





h = plt.figure(figsize = (7,7))
pos = nx.kamada_kawai_layout(G)
nx.draw(G, with_labels = True, node_color = 'red', edge_cmap = plt.cm.Blues, pos = pos)
plt.show() 


h.savefig(os.path.join(path, 'Visualizations', 'networkx_plt_20thCentury.png'))





# Define net object

net = Network()
net = Network(notebook = True,width="900px", height="800px", bgcolor='#222222', font_color='white')

# Define nodes from the G object
node_degree = dict(G.degree)

# Setting up node size attributes
nx.set_node_attributes(G, node_degree, 'size')
net.from_nx(G)
net.show_buttons(filter_ = True)
net.repulsion()
net.show("20thCentury_network_graph.html")





from cdlib import algorithms
coms = algorithms.leiden(G)


type(coms)


new_com = coms.to_node_community_map()


new_com





# Put the output from new_com into a dictionary

dict_com = {k:v[0] for k,v in new_com.items()}

dict_com


# Rerun network graph with the communities as an argument

nx.set_node_attributes(G, dict_com, 'group')
com_net = Network(notebook = True, width="1300px", height="700px", bgcolor='#222222', font_color='white')
com_net.from_nx(G)
com_net.show_buttons(filter_ = True)
com_net.repulsion()
com_net.show("20thCentury_network_graph_leiden.html")








# Degree centrality

degree_dict = nx.degree_centrality(G)
degree_dict


degree_df = pd.DataFrame(degree_dict.items(), columns=['Country','centrality'])


degree_df.sort_values(by = ['centrality'], ascending=False, inplace = True)


degree_df


# Plot the degree centrality

plt.figure(figsize = (10, 4))
palette = sns.dark_palette("#79C", n_colors=len(degree_df), reverse=False)
with sns.dark_palette("xkcd:blue", 22):
    sns.barplot(x = "centrality", y = "Country", palette = palette,
    saturation = 0.9, data = degree_df).set_title("Key 20th Century Countries - degree centrality")






